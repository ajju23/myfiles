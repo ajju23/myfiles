{
  "nbformat": 4,
  "nbformat_minor": 0,
  "metadata": {
    "kernelspec": {
      "language": "python",
      "display_name": "Python 3",
      "name": "python3"
    },
    "language_info": {
      "name": "python",
      "version": "3.7.10",
      "mimetype": "text/x-python",
      "codemirror_mode": {
        "name": "ipython",
        "version": 3
      },
      "pygments_lexer": "ipython3",
      "nbconvert_exporter": "python",
      "file_extension": ".py"
    },
    "colab": {
      "name": "climate-control.ipynb",
      "provenance": []
    }
  },
  "cells": [
    {
      "cell_type": "code",
      "metadata": {
        "execution": {
          "iopub.status.busy": "2021-11-14T18:04:39.482277Z",
          "iopub.execute_input": "2021-11-14T18:04:39.482627Z",
          "iopub.status.idle": "2021-11-14T18:04:39.488024Z",
          "shell.execute_reply.started": "2021-11-14T18:04:39.482593Z",
          "shell.execute_reply": "2021-11-14T18:04:39.487121Z"
        },
        "trusted": true,
        "colab": {
          "base_uri": "https://localhost:8080/",
          "height": 0
        },
        "id": "zDsRdD3GDo_5",
        "outputId": "52fe66ea-7c18-4cbf-c96d-00672f271801"
      },
      "source": [
        "# import the neccessary libraries\n",
        "\n",
        "import pandas as pd\n",
        "import numpy as np\n",
        "import matplotlib.pyplot as plt\n",
        "import seaborn as sns\n",
        "\n",
        "from statsmodels.tsa.stattools import grangercausalitytests\n",
        "from statsmodels.tsa.stattools import adfuller\n",
        "import statsmodels.api as sm\n",
        "from statsmodels.tsa.api import VAR"
      ],
      "execution_count": 1,
      "outputs": [
        {
          "output_type": "stream",
          "name": "stderr",
          "text": [
            "/usr/local/lib/python3.7/dist-packages/statsmodels/tools/_testing.py:19: FutureWarning: pandas.util.testing is deprecated. Use the functions in the public API at pandas.testing instead.\n",
            "  import pandas.util.testing as tm\n"
          ]
        }
      ]
    },
    {
      "cell_type": "markdown",
      "metadata": {
        "id": "_3SNPslEDo_7"
      },
      "source": [
        "## Assignment - Load Forecasting"
      ]
    },
    {
      "cell_type": "markdown",
      "metadata": {
        "id": "ngVQJ6rCDo_8"
      },
      "source": [
        "predicting future electricity load consumption, from historical data.\n",
        "Various factors can also be taken into consideration while forecasting, for instance, weather conditions can be sent as an input in the mathematical foreteller function to improve accuracy parameters in certain scenarios."
      ]
    },
    {
      "cell_type": "code",
      "metadata": {
        "execution": {
          "iopub.status.busy": "2021-11-14T18:13:38.204787Z",
          "iopub.execute_input": "2021-11-14T18:13:38.205060Z",
          "iopub.status.idle": "2021-11-14T18:13:38.405395Z",
          "shell.execute_reply.started": "2021-11-14T18:13:38.205033Z",
          "shell.execute_reply": "2021-11-14T18:13:38.404610Z"
        },
        "trusted": true,
        "colab": {
          "base_uri": "https://localhost:8080/",
          "height": 409
        },
        "id": "ngD6shlrDo_9",
        "outputId": "e9fa507b-c145-4787-efe2-053c90ec64d4"
      },
      "source": [
        "# load the dataset\n",
        "\n",
        "train_ds = pd.read_csv('assignment-data.csv',\n",
        "                      index_col=['datetime'], parse_dates=['datetime'])"
      ],
      "execution_count": 2,
      "outputs": [
        {
          "output_type": "error",
          "ename": "FileNotFoundError",
          "evalue": "ignored",
          "traceback": [
            "\u001b[0;31m---------------------------------------------------------------------------\u001b[0m",
            "\u001b[0;31mFileNotFoundError\u001b[0m                         Traceback (most recent call last)",
            "\u001b[0;32m<ipython-input-2-63fe16b7e6cc>\u001b[0m in \u001b[0;36m<module>\u001b[0;34m()\u001b[0m\n\u001b[1;32m      2\u001b[0m \u001b[0;34m\u001b[0m\u001b[0m\n\u001b[1;32m      3\u001b[0m train_ds = pd.read_csv('assignment-data.csv',\n\u001b[0;32m----> 4\u001b[0;31m                       index_col=['datetime'], parse_dates=['datetime'])\n\u001b[0m",
            "\u001b[0;32m/usr/local/lib/python3.7/dist-packages/pandas/io/parsers.py\u001b[0m in \u001b[0;36mread_csv\u001b[0;34m(filepath_or_buffer, sep, delimiter, header, names, index_col, usecols, squeeze, prefix, mangle_dupe_cols, dtype, engine, converters, true_values, false_values, skipinitialspace, skiprows, skipfooter, nrows, na_values, keep_default_na, na_filter, verbose, skip_blank_lines, parse_dates, infer_datetime_format, keep_date_col, date_parser, dayfirst, cache_dates, iterator, chunksize, compression, thousands, decimal, lineterminator, quotechar, quoting, doublequote, escapechar, comment, encoding, dialect, error_bad_lines, warn_bad_lines, delim_whitespace, low_memory, memory_map, float_precision)\u001b[0m\n\u001b[1;32m    686\u001b[0m     )\n\u001b[1;32m    687\u001b[0m \u001b[0;34m\u001b[0m\u001b[0m\n\u001b[0;32m--> 688\u001b[0;31m     \u001b[0;32mreturn\u001b[0m \u001b[0m_read\u001b[0m\u001b[0;34m(\u001b[0m\u001b[0mfilepath_or_buffer\u001b[0m\u001b[0;34m,\u001b[0m \u001b[0mkwds\u001b[0m\u001b[0;34m)\u001b[0m\u001b[0;34m\u001b[0m\u001b[0;34m\u001b[0m\u001b[0m\n\u001b[0m\u001b[1;32m    689\u001b[0m \u001b[0;34m\u001b[0m\u001b[0m\n\u001b[1;32m    690\u001b[0m \u001b[0;34m\u001b[0m\u001b[0m\n",
            "\u001b[0;32m/usr/local/lib/python3.7/dist-packages/pandas/io/parsers.py\u001b[0m in \u001b[0;36m_read\u001b[0;34m(filepath_or_buffer, kwds)\u001b[0m\n\u001b[1;32m    452\u001b[0m \u001b[0;34m\u001b[0m\u001b[0m\n\u001b[1;32m    453\u001b[0m     \u001b[0;31m# Create the parser.\u001b[0m\u001b[0;34m\u001b[0m\u001b[0;34m\u001b[0m\u001b[0;34m\u001b[0m\u001b[0m\n\u001b[0;32m--> 454\u001b[0;31m     \u001b[0mparser\u001b[0m \u001b[0;34m=\u001b[0m \u001b[0mTextFileReader\u001b[0m\u001b[0;34m(\u001b[0m\u001b[0mfp_or_buf\u001b[0m\u001b[0;34m,\u001b[0m \u001b[0;34m**\u001b[0m\u001b[0mkwds\u001b[0m\u001b[0;34m)\u001b[0m\u001b[0;34m\u001b[0m\u001b[0;34m\u001b[0m\u001b[0m\n\u001b[0m\u001b[1;32m    455\u001b[0m \u001b[0;34m\u001b[0m\u001b[0m\n\u001b[1;32m    456\u001b[0m     \u001b[0;32mif\u001b[0m \u001b[0mchunksize\u001b[0m \u001b[0;32mor\u001b[0m \u001b[0miterator\u001b[0m\u001b[0;34m:\u001b[0m\u001b[0;34m\u001b[0m\u001b[0;34m\u001b[0m\u001b[0m\n",
            "\u001b[0;32m/usr/local/lib/python3.7/dist-packages/pandas/io/parsers.py\u001b[0m in \u001b[0;36m__init__\u001b[0;34m(self, f, engine, **kwds)\u001b[0m\n\u001b[1;32m    946\u001b[0m             \u001b[0mself\u001b[0m\u001b[0;34m.\u001b[0m\u001b[0moptions\u001b[0m\u001b[0;34m[\u001b[0m\u001b[0;34m\"has_index_names\"\u001b[0m\u001b[0;34m]\u001b[0m \u001b[0;34m=\u001b[0m \u001b[0mkwds\u001b[0m\u001b[0;34m[\u001b[0m\u001b[0;34m\"has_index_names\"\u001b[0m\u001b[0;34m]\u001b[0m\u001b[0;34m\u001b[0m\u001b[0;34m\u001b[0m\u001b[0m\n\u001b[1;32m    947\u001b[0m \u001b[0;34m\u001b[0m\u001b[0m\n\u001b[0;32m--> 948\u001b[0;31m         \u001b[0mself\u001b[0m\u001b[0;34m.\u001b[0m\u001b[0m_make_engine\u001b[0m\u001b[0;34m(\u001b[0m\u001b[0mself\u001b[0m\u001b[0;34m.\u001b[0m\u001b[0mengine\u001b[0m\u001b[0;34m)\u001b[0m\u001b[0;34m\u001b[0m\u001b[0;34m\u001b[0m\u001b[0m\n\u001b[0m\u001b[1;32m    949\u001b[0m \u001b[0;34m\u001b[0m\u001b[0m\n\u001b[1;32m    950\u001b[0m     \u001b[0;32mdef\u001b[0m \u001b[0mclose\u001b[0m\u001b[0;34m(\u001b[0m\u001b[0mself\u001b[0m\u001b[0;34m)\u001b[0m\u001b[0;34m:\u001b[0m\u001b[0;34m\u001b[0m\u001b[0;34m\u001b[0m\u001b[0m\n",
            "\u001b[0;32m/usr/local/lib/python3.7/dist-packages/pandas/io/parsers.py\u001b[0m in \u001b[0;36m_make_engine\u001b[0;34m(self, engine)\u001b[0m\n\u001b[1;32m   1178\u001b[0m     \u001b[0;32mdef\u001b[0m \u001b[0m_make_engine\u001b[0m\u001b[0;34m(\u001b[0m\u001b[0mself\u001b[0m\u001b[0;34m,\u001b[0m \u001b[0mengine\u001b[0m\u001b[0;34m=\u001b[0m\u001b[0;34m\"c\"\u001b[0m\u001b[0;34m)\u001b[0m\u001b[0;34m:\u001b[0m\u001b[0;34m\u001b[0m\u001b[0;34m\u001b[0m\u001b[0m\n\u001b[1;32m   1179\u001b[0m         \u001b[0;32mif\u001b[0m \u001b[0mengine\u001b[0m \u001b[0;34m==\u001b[0m \u001b[0;34m\"c\"\u001b[0m\u001b[0;34m:\u001b[0m\u001b[0;34m\u001b[0m\u001b[0;34m\u001b[0m\u001b[0m\n\u001b[0;32m-> 1180\u001b[0;31m             \u001b[0mself\u001b[0m\u001b[0;34m.\u001b[0m\u001b[0m_engine\u001b[0m \u001b[0;34m=\u001b[0m \u001b[0mCParserWrapper\u001b[0m\u001b[0;34m(\u001b[0m\u001b[0mself\u001b[0m\u001b[0;34m.\u001b[0m\u001b[0mf\u001b[0m\u001b[0;34m,\u001b[0m \u001b[0;34m**\u001b[0m\u001b[0mself\u001b[0m\u001b[0;34m.\u001b[0m\u001b[0moptions\u001b[0m\u001b[0;34m)\u001b[0m\u001b[0;34m\u001b[0m\u001b[0;34m\u001b[0m\u001b[0m\n\u001b[0m\u001b[1;32m   1181\u001b[0m         \u001b[0;32melse\u001b[0m\u001b[0;34m:\u001b[0m\u001b[0;34m\u001b[0m\u001b[0;34m\u001b[0m\u001b[0m\n\u001b[1;32m   1182\u001b[0m             \u001b[0;32mif\u001b[0m \u001b[0mengine\u001b[0m \u001b[0;34m==\u001b[0m \u001b[0;34m\"python\"\u001b[0m\u001b[0;34m:\u001b[0m\u001b[0;34m\u001b[0m\u001b[0;34m\u001b[0m\u001b[0m\n",
            "\u001b[0;32m/usr/local/lib/python3.7/dist-packages/pandas/io/parsers.py\u001b[0m in \u001b[0;36m__init__\u001b[0;34m(self, src, **kwds)\u001b[0m\n\u001b[1;32m   2008\u001b[0m         \u001b[0mkwds\u001b[0m\u001b[0;34m[\u001b[0m\u001b[0;34m\"usecols\"\u001b[0m\u001b[0;34m]\u001b[0m \u001b[0;34m=\u001b[0m \u001b[0mself\u001b[0m\u001b[0;34m.\u001b[0m\u001b[0musecols\u001b[0m\u001b[0;34m\u001b[0m\u001b[0;34m\u001b[0m\u001b[0m\n\u001b[1;32m   2009\u001b[0m \u001b[0;34m\u001b[0m\u001b[0m\n\u001b[0;32m-> 2010\u001b[0;31m         \u001b[0mself\u001b[0m\u001b[0;34m.\u001b[0m\u001b[0m_reader\u001b[0m \u001b[0;34m=\u001b[0m \u001b[0mparsers\u001b[0m\u001b[0;34m.\u001b[0m\u001b[0mTextReader\u001b[0m\u001b[0;34m(\u001b[0m\u001b[0msrc\u001b[0m\u001b[0;34m,\u001b[0m \u001b[0;34m**\u001b[0m\u001b[0mkwds\u001b[0m\u001b[0;34m)\u001b[0m\u001b[0;34m\u001b[0m\u001b[0;34m\u001b[0m\u001b[0m\n\u001b[0m\u001b[1;32m   2011\u001b[0m         \u001b[0mself\u001b[0m\u001b[0;34m.\u001b[0m\u001b[0munnamed_cols\u001b[0m \u001b[0;34m=\u001b[0m \u001b[0mself\u001b[0m\u001b[0;34m.\u001b[0m\u001b[0m_reader\u001b[0m\u001b[0;34m.\u001b[0m\u001b[0munnamed_cols\u001b[0m\u001b[0;34m\u001b[0m\u001b[0;34m\u001b[0m\u001b[0m\n\u001b[1;32m   2012\u001b[0m \u001b[0;34m\u001b[0m\u001b[0m\n",
            "\u001b[0;32mpandas/_libs/parsers.pyx\u001b[0m in \u001b[0;36mpandas._libs.parsers.TextReader.__cinit__\u001b[0;34m()\u001b[0m\n",
            "\u001b[0;32mpandas/_libs/parsers.pyx\u001b[0m in \u001b[0;36mpandas._libs.parsers.TextReader._setup_parser_source\u001b[0;34m()\u001b[0m\n",
            "\u001b[0;31mFileNotFoundError\u001b[0m: [Errno 2] No such file or directory: 'assignment-data.csv'"
          ]
        }
      ]
    },
    {
      "cell_type": "code",
      "metadata": {
        "execution": {
          "iopub.status.busy": "2021-11-14T18:13:38.675214Z",
          "iopub.execute_input": "2021-11-14T18:13:38.675965Z",
          "iopub.status.idle": "2021-11-14T18:13:38.690141Z",
          "shell.execute_reply.started": "2021-11-14T18:13:38.675927Z",
          "shell.execute_reply": "2021-11-14T18:13:38.689380Z"
        },
        "trusted": true,
        "id": "3u3by_69Do_9"
      },
      "source": [
        "# lets explore our dataset\n",
        "\n",
        "train_ds.head()"
      ],
      "execution_count": null,
      "outputs": []
    },
    {
      "cell_type": "markdown",
      "metadata": {
        "id": "_qciJYXpDo_9"
      },
      "source": [
        "# Data Cleaning in Time Series\n",
        "\n",
        "We need to remove the seasonality, trend (upwards/downwards), and make it stationary \n",
        "However, the data was already stationary"
      ]
    },
    {
      "cell_type": "code",
      "metadata": {
        "execution": {
          "iopub.status.busy": "2021-11-14T18:13:44.920504Z",
          "iopub.execute_input": "2021-11-14T18:13:44.920770Z",
          "iopub.status.idle": "2021-11-14T18:13:44.925577Z",
          "shell.execute_reply.started": "2021-11-14T18:13:44.920742Z",
          "shell.execute_reply": "2021-11-14T18:13:44.924607Z"
        },
        "trusted": true,
        "id": "wF_TylkkDo_-"
      },
      "source": [
        "# checking the number of observations in our dataset\n",
        "\n",
        "def explore_ds(df):\n",
        "    \n",
        "    print(f'Total No. of rows: {df.shape[0]}')\n",
        "    print('-------------------------------')\n",
        "    print(df.describe())\n",
        "    print('-------------------------------')\n",
        "    print(df.info())\n"
      ],
      "execution_count": null,
      "outputs": []
    },
    {
      "cell_type": "code",
      "metadata": {
        "execution": {
          "iopub.status.busy": "2021-11-14T18:13:45.295030Z",
          "iopub.execute_input": "2021-11-14T18:13:45.295324Z",
          "iopub.status.idle": "2021-11-14T18:13:45.352356Z",
          "shell.execute_reply.started": "2021-11-14T18:13:45.295291Z",
          "shell.execute_reply": "2021-11-14T18:13:45.351492Z"
        },
        "trusted": true,
        "id": "RLDpq-TsDo_-"
      },
      "source": [
        "explore_ds(train_ds)"
      ],
      "execution_count": null,
      "outputs": []
    },
    {
      "cell_type": "code",
      "metadata": {
        "execution": {
          "iopub.status.busy": "2021-11-14T18:13:48.332897Z",
          "iopub.execute_input": "2021-11-14T18:13:48.333179Z",
          "iopub.status.idle": "2021-11-14T18:13:48.339674Z",
          "shell.execute_reply.started": "2021-11-14T18:13:48.333147Z",
          "shell.execute_reply": "2021-11-14T18:13:48.339114Z"
        },
        "trusted": true,
        "id": "maYc8ha2Do__"
      },
      "source": [
        "# seeing above dataset, we can drop Unnamed:0 as its indexing and not useful feature for us\n",
        "# we can also drop date as its derived from datetime column\n",
        "\n",
        "train_ds.drop(['Unnamed: 0', 'date'], axis=1, inplace=True)"
      ],
      "execution_count": null,
      "outputs": []
    },
    {
      "cell_type": "code",
      "metadata": {
        "trusted": true,
        "id": "MaGg6Kc6Do__"
      },
      "source": [
        "# To understand and visualize our dataset better, lets try to resample the data hourly\n",
        "\n",
        "train_ds_hourly = train_ds.resample('1H').mean() # taking average of 15 min every hour \n",
        "train_ds_hourly.head(3)"
      ],
      "execution_count": null,
      "outputs": []
    },
    {
      "cell_type": "code",
      "metadata": {
        "execution": {
          "iopub.status.busy": "2021-11-14T15:53:52.424247Z",
          "iopub.execute_input": "2021-11-14T15:53:52.424687Z",
          "iopub.status.idle": "2021-11-14T15:53:56.514432Z",
          "shell.execute_reply.started": "2021-11-14T15:53:52.424641Z",
          "shell.execute_reply": "2021-11-14T15:53:56.513457Z"
        },
        "trusted": true,
        "id": "eLkuv4IzDpAA"
      },
      "source": [
        "# datetime columns has many useful features such as day, month, week etc which can be used for EDA purpose\n",
        "\n",
        "# train_ds['Year'] = train_ds['datetime'].apply(lambda x: x.year)\n",
        "# train_ds['Month'] = train_ds['datetime'].apply(lambda x: x.month)\n",
        "# train_ds['Day'] = train_ds['datetime'].apply(lambda x: x.day)\n",
        "# train_ds['Weekday'] = train_ds['datetime'].apply(lambda x: x.day_name())\n",
        "# train_ds['Weeknumber'] = train_ds['datetime'].apply(lambda x: x.weekofyear)\n",
        "# train_ds['Hour'] = train_ds['datetime'].apply(lambda x: x.hour)\n",
        "# train_ds['Minute'] = train_ds['datetime'].apply(lambda x: x.minute)\n"
      ],
      "execution_count": null,
      "outputs": []
    },
    {
      "cell_type": "markdown",
      "metadata": {
        "id": "v9O_QRWcDpAA"
      },
      "source": [
        "# Tasks:\n",
        "\n",
        "* Task 1 - Do a short term forecast for the day 14 December 2020 in the frequency of 15 minutes.\n",
        "* Task 2 - Do forecast for the rows where load values are NaN."
      ]
    },
    {
      "cell_type": "code",
      "metadata": {
        "execution": {
          "iopub.status.busy": "2021-11-14T18:14:05.556042Z",
          "iopub.execute_input": "2021-11-14T18:14:05.556635Z",
          "iopub.status.idle": "2021-11-14T18:14:05.565326Z",
          "shell.execute_reply.started": "2021-11-14T18:14:05.556585Z",
          "shell.execute_reply": "2021-11-14T18:14:05.564766Z"
        },
        "trusted": true,
        "id": "Ju9XWrN9DpAB"
      },
      "source": [
        "# Checking for any missing values\n",
        "\n",
        "train_ds.isna().sum()"
      ],
      "execution_count": null,
      "outputs": []
    },
    {
      "cell_type": "markdown",
      "metadata": {
        "id": "SirhQ7tXDpAB"
      },
      "source": [
        "* As we see above we have 1440 nan values in load, which apparently becomes our task 2 where we need to predict these values, we will get rid of NaN values"
      ]
    },
    {
      "cell_type": "code",
      "metadata": {
        "execution": {
          "iopub.status.busy": "2021-11-14T18:14:09.851963Z",
          "iopub.execute_input": "2021-11-14T18:14:09.852254Z",
          "iopub.status.idle": "2021-11-14T18:14:09.861261Z",
          "shell.execute_reply.started": "2021-11-14T18:14:09.852221Z",
          "shell.execute_reply": "2021-11-14T18:14:09.860544Z"
        },
        "trusted": true,
        "id": "r5FOx1RJDpAC"
      },
      "source": [
        "# including all the load values without NaN\n",
        "\n",
        "train_ds = train_ds[~train_ds['load'].isna()]"
      ],
      "execution_count": null,
      "outputs": []
    },
    {
      "cell_type": "markdown",
      "metadata": {
        "id": "QE29jnofDpAC"
      },
      "source": [
        "# Lets Visualize our dataset"
      ]
    },
    {
      "cell_type": "code",
      "metadata": {
        "execution": {
          "iopub.status.busy": "2021-11-14T18:14:50.710387Z",
          "iopub.execute_input": "2021-11-14T18:14:50.710878Z",
          "iopub.status.idle": "2021-11-14T18:14:53.466263Z",
          "shell.execute_reply.started": "2021-11-14T18:14:50.710834Z",
          "shell.execute_reply": "2021-11-14T18:14:53.465480Z"
        },
        "trusted": true,
        "id": "Pq4Uagu6DpAD"
      },
      "source": [
        "fig, axes = plt.subplots(nrows=3, ncols=2, dpi=120, figsize=(10,6))\n",
        "def visualize_df(df):\n",
        "    for i, ax in enumerate(axes.flatten()):\n",
        "        data = df[df.columns[i]]\n",
        "        ax.plot(data, color='red', linewidth=1)\n",
        "        # Decorations\n",
        "        ax.set_title(df.columns[i])\n",
        "        ax.xaxis.set_ticks_position('none')\n",
        "        ax.yaxis.set_ticks_position('none')\n",
        "        ax.spines[\"top\"].set_alpha(0)\n",
        "        ax.tick_params(labelsize=6)\n",
        "\n",
        "    plt.tight_layout();\n",
        "    \n",
        "visualize_df(train_ds)"
      ],
      "execution_count": null,
      "outputs": []
    },
    {
      "cell_type": "markdown",
      "metadata": {
        "id": "8ksu-OHXDpAD"
      },
      "source": [
        "We can clearly observe the seasonal changes yearwise in the data pattern"
      ]
    },
    {
      "cell_type": "markdown",
      "metadata": {
        "id": "oH5Ddn-GDpAD"
      },
      "source": [
        "In addition to temperature information, I added season information, which is a time-series factor that affects temperature (especially outside).\n",
        "\n"
      ]
    },
    {
      "cell_type": "markdown",
      "metadata": {
        "id": "n_eaZKI1DpAE"
      },
      "source": [
        "# Making our time series more stationary,\n",
        "In the below code, i have directly done dicky fuller test to check if the time series if stationary or not.\n",
        "However for better model, we can further make our time series more stationary as we can see the seasonal pattern clearly\n",
        "in most of the features."
      ]
    },
    {
      "cell_type": "code",
      "metadata": {
        "execution": {
          "iopub.status.busy": "2021-11-14T18:15:05.985625Z",
          "iopub.execute_input": "2021-11-14T18:15:05.985901Z",
          "iopub.status.idle": "2021-11-14T18:18:05.031833Z",
          "shell.execute_reply.started": "2021-11-14T18:15:05.985869Z",
          "shell.execute_reply": "2021-11-14T18:18:05.030861Z"
        },
        "trusted": true,
        "id": "DELuWk7mDpAE"
      },
      "source": [
        "# checking if our time series is stationary, incase not we need to make it stationary before moving forward\n",
        "\n",
        "for i in range(len(train_ds.columns)):\n",
        "  result = adfuller(train_ds[train_ds.columns[i]])\n",
        "\n",
        "  if result[1] > 0.05 :\n",
        "    print('{} - Series is not Stationary'.format(train_ds.columns[i]))\n",
        "  else:\n",
        "    print('{} - Series is Stationary'.format(train_ds.columns[i]))"
      ],
      "execution_count": null,
      "outputs": []
    },
    {
      "cell_type": "code",
      "metadata": {
        "execution": {
          "iopub.status.busy": "2021-11-14T18:18:05.512311Z",
          "iopub.execute_input": "2021-11-14T18:18:05.512669Z",
          "iopub.status.idle": "2021-11-14T18:18:05.517375Z",
          "shell.execute_reply.started": "2021-11-14T18:18:05.512628Z",
          "shell.execute_reply": "2021-11-14T18:18:05.516539Z"
        },
        "trusted": true,
        "id": "eFk_PsE5DpAE"
      },
      "source": [
        "# granger casuality (granger causs) to check if my one value affects another using p value\n",
        "# simply saying if one time series cause another time series\n",
        "# we calculate t test, F test\n",
        "\n",
        "max_lags=8 # defining lag value\n",
        "y='load' # comparing how load timeseries can cause another time series"
      ],
      "execution_count": null,
      "outputs": []
    },
    {
      "cell_type": "code",
      "metadata": {
        "execution": {
          "iopub.status.busy": "2021-11-14T18:18:09.383861Z",
          "iopub.execute_input": "2021-11-14T18:18:09.384130Z",
          "iopub.status.idle": "2021-11-14T18:18:09.388555Z",
          "shell.execute_reply.started": "2021-11-14T18:18:09.384102Z",
          "shell.execute_reply": "2021-11-14T18:18:09.387382Z"
        },
        "trusted": true,
        "id": "ED8PoEV1DpAF"
      },
      "source": [
        "df = train_ds"
      ],
      "execution_count": null,
      "outputs": []
    },
    {
      "cell_type": "code",
      "metadata": {
        "execution": {
          "iopub.status.busy": "2021-11-14T18:18:13.143850Z",
          "iopub.execute_input": "2021-11-14T18:18:13.144142Z",
          "iopub.status.idle": "2021-11-14T18:18:22.132114Z",
          "shell.execute_reply.started": "2021-11-14T18:18:13.144110Z",
          "shell.execute_reply": "2021-11-14T18:18:22.131224Z"
        },
        "trusted": true,
        "id": "vnwyxYq3DpAF"
      },
      "source": [
        "for i in range(len(df.columns)-1):\n",
        "  results=grangercausalitytests(df[[y,df.columns[i+1]]], max_lags, verbose=False)\n",
        "  p_values=[round(results[i+1][0]['ssr_ftest'][1],4) for i in range(max_lags)]\n",
        "  print('Column - {} : P_Values - {}'.format(df.columns[i+1],p_values))"
      ],
      "execution_count": null,
      "outputs": []
    },
    {
      "cell_type": "markdown",
      "metadata": {
        "id": "H8FOcMUuDpAF"
      },
      "source": [
        "If we see above, the null hypothesis is true for apparent_tempearture as its greater than 0.05 (5% significant).\n",
        "we will use remaining factors as they seem to be more relevant to the load\n",
        "\n",
        "we will build linear model with load lag for all the factors"
      ]
    },
    {
      "cell_type": "code",
      "metadata": {
        "execution": {
          "iopub.status.busy": "2021-11-14T15:54:53.200514Z",
          "iopub.execute_input": "2021-11-14T15:54:53.201507Z",
          "iopub.status.idle": "2021-11-14T15:54:53.205534Z",
          "shell.execute_reply.started": "2021-11-14T15:54:53.201454Z",
          "shell.execute_reply": "2021-11-14T15:54:53.204416Z"
        },
        "trusted": true,
        "id": "jEfroDRzDpAF"
      },
      "source": [
        "df=train_ds"
      ],
      "execution_count": null,
      "outputs": []
    },
    {
      "cell_type": "code",
      "metadata": {
        "execution": {
          "iopub.status.busy": "2021-11-14T18:19:05.049919Z",
          "iopub.execute_input": "2021-11-14T18:19:05.050220Z",
          "iopub.status.idle": "2021-11-14T18:19:05.056835Z",
          "shell.execute_reply.started": "2021-11-14T18:19:05.050187Z",
          "shell.execute_reply": "2021-11-14T18:19:05.055798Z"
        },
        "trusted": true,
        "id": "0WtajPOCDpAF"
      },
      "source": [
        "# I am considering the below factors as per clue Rainfall effects can have direct load consumption\n",
        "\n",
        "df_input=df[['load','temperature', 'wind_speed','cloud_cover']]\n",
        "# df_input=df"
      ],
      "execution_count": null,
      "outputs": []
    },
    {
      "cell_type": "code",
      "metadata": {
        "execution": {
          "iopub.status.busy": "2021-11-14T18:19:08.783080Z",
          "iopub.execute_input": "2021-11-14T18:19:08.783362Z",
          "iopub.status.idle": "2021-11-14T18:19:08.788337Z",
          "shell.execute_reply.started": "2021-11-14T18:19:08.783331Z",
          "shell.execute_reply": "2021-11-14T18:19:08.787658Z"
        },
        "trusted": true,
        "id": "pvwMxD0xDpAG"
      },
      "source": [
        "# its time to split our dataset, as its time series data we can't do train test split\n",
        "# so we will take out 90% data for training and remaining 10% for test\n",
        "\n",
        "df_train = df_input[:int(0.9*(len(df_input)))] # 90% for training\n",
        "df_test = df_input[int(0.9*(len(df_input))):] # 10% for test from the last"
      ],
      "execution_count": null,
      "outputs": []
    },
    {
      "cell_type": "code",
      "metadata": {
        "execution": {
          "iopub.status.busy": "2021-11-14T18:19:11.540134Z",
          "iopub.execute_input": "2021-11-14T18:19:11.540393Z",
          "iopub.status.idle": "2021-11-14T18:19:11.545596Z",
          "shell.execute_reply.started": "2021-11-14T18:19:11.540366Z",
          "shell.execute_reply": "2021-11-14T18:19:11.544988Z"
        },
        "trusted": true,
        "id": "SOWbpJTqDpAG"
      },
      "source": [
        "print('training dataset', df_train.shape)\n",
        "print('test dataset', df_test.shape)"
      ],
      "execution_count": null,
      "outputs": []
    },
    {
      "cell_type": "code",
      "metadata": {
        "execution": {
          "iopub.status.busy": "2021-11-14T18:20:17.484588Z",
          "iopub.execute_input": "2021-11-14T18:20:17.484882Z",
          "iopub.status.idle": "2021-11-14T18:20:20.717443Z",
          "shell.execute_reply.started": "2021-11-14T18:20:17.484849Z",
          "shell.execute_reply": "2021-11-14T18:20:20.716497Z"
        },
        "trusted": true,
        "id": "DreVfHMKDpAG"
      },
      "source": [
        "# we will build VAR model, with AIC and BIC for model selection\n",
        "\n",
        "# here we will see which lags to consider which give us the lowest AIC and BIC value, \n",
        "# then with minimum lag we can fit the model\n",
        "\n",
        "model = VAR(df_train)\n",
        "for i in range(10):\n",
        "    results = model.fit(i+1)\n",
        "    print('Order = ', i+1)\n",
        "    print('AIC: ', results.aic)\n",
        "    print('BIC: ', results.bic)"
      ],
      "execution_count": null,
      "outputs": []
    },
    {
      "cell_type": "code",
      "metadata": {
        "execution": {
          "iopub.status.busy": "2021-11-14T18:21:02.658942Z",
          "iopub.execute_input": "2021-11-14T18:21:02.659249Z",
          "iopub.status.idle": "2021-11-14T18:21:05.923327Z",
          "shell.execute_reply.started": "2021-11-14T18:21:02.659219Z",
          "shell.execute_reply": "2021-11-14T18:21:05.922496Z"
        },
        "trusted": true,
        "id": "hjTm02EBDpAG"
      },
      "source": [
        "# to pick the lowest once\n",
        "model.select_order(10).summary()"
      ],
      "execution_count": null,
      "outputs": []
    },
    {
      "cell_type": "markdown",
      "metadata": {
        "id": "hNBTW2D0DpAG"
      },
      "source": [
        "# Found this appraoch not much suitable as its required lots of data cleaning & Time Taking"
      ]
    },
    {
      "cell_type": "markdown",
      "metadata": {
        "id": "GEkRsulNDpAH"
      },
      "source": [
        "# Evaluation Metrics"
      ]
    },
    {
      "cell_type": "code",
      "metadata": {
        "execution": {
          "iopub.status.busy": "2021-11-14T18:24:32.231632Z",
          "iopub.execute_input": "2021-11-14T18:24:32.232155Z",
          "iopub.status.idle": "2021-11-14T18:24:32.237203Z",
          "shell.execute_reply.started": "2021-11-14T18:24:32.232098Z",
          "shell.execute_reply": "2021-11-14T18:24:32.236678Z"
        },
        "trusted": true,
        "id": "J-MHo8q6DpAH"
      },
      "source": [
        "def mean_absolute_percentage_error(y_true, y_pred): \n",
        "    \"\"\"Calculates MAPE given y_true and y_pred\"\"\"\n",
        "    y_true, y_pred = np.array(y_true), np.array(y_pred)\n",
        "    return np.mean(np.abs((y_true - y_pred) / y_true)) * 100"
      ],
      "execution_count": null,
      "outputs": []
    },
    {
      "cell_type": "markdown",
      "metadata": {
        "id": "xH4kr6tFDpAH"
      },
      "source": [
        "# Using Facebook Prophet Library"
      ]
    },
    {
      "cell_type": "code",
      "metadata": {
        "execution": {
          "iopub.status.busy": "2021-11-14T19:13:51.439819Z",
          "iopub.execute_input": "2021-11-14T19:13:51.440512Z",
          "iopub.status.idle": "2021-11-14T19:13:51.625194Z",
          "shell.execute_reply.started": "2021-11-14T19:13:51.440479Z",
          "shell.execute_reply": "2021-11-14T19:13:51.624353Z"
        },
        "trusted": true,
        "id": "faIzutOfDpAH"
      },
      "source": [
        "# Using for Prophet\n",
        "train_ds_org = pd.read_csv('assignment-data.csv',\n",
        "                       parse_dates=['datetime'])\n",
        "train_ds_org.drop(['Unnamed: 0', 'date'], axis=1, inplace=True)"
      ],
      "execution_count": null,
      "outputs": []
    },
    {
      "cell_type": "code",
      "metadata": {
        "execution": {
          "iopub.status.busy": "2021-11-14T18:45:53.123833Z",
          "iopub.execute_input": "2021-11-14T18:45:53.124120Z",
          "iopub.status.idle": "2021-11-14T18:45:53.128378Z",
          "shell.execute_reply.started": "2021-11-14T18:45:53.124089Z",
          "shell.execute_reply": "2021-11-14T18:45:53.127461Z"
        },
        "trusted": true,
        "id": "6lpYcWxuDpAH"
      },
      "source": [
        "from fbprophet import Prophet"
      ],
      "execution_count": null,
      "outputs": []
    },
    {
      "cell_type": "code",
      "metadata": {
        "execution": {
          "iopub.status.busy": "2021-11-14T19:13:57.927439Z",
          "iopub.execute_input": "2021-11-14T19:13:57.928498Z",
          "iopub.status.idle": "2021-11-14T19:13:57.998826Z",
          "shell.execute_reply.started": "2021-11-14T19:13:57.928453Z",
          "shell.execute_reply": "2021-11-14T19:13:57.998170Z"
        },
        "trusted": true,
        "id": "qo8d2KnsDpAI"
      },
      "source": [
        "model = Prophet(interval_width = 0.95)\n",
        "# model.add_regressor('temperature', mode='multiplicative')\n",
        "# model.add_regressor('wind_speed', mode='multiplicative')\n",
        "# model.add_regressor('cloud_cover', mode='multiplicative')"
      ],
      "execution_count": null,
      "outputs": []
    },
    {
      "cell_type": "code",
      "metadata": {
        "execution": {
          "iopub.status.busy": "2021-11-14T19:14:06.007244Z",
          "iopub.execute_input": "2021-11-14T19:14:06.008045Z",
          "iopub.status.idle": "2021-11-14T19:14:06.060637Z",
          "shell.execute_reply.started": "2021-11-14T19:14:06.008005Z",
          "shell.execute_reply": "2021-11-14T19:14:06.059944Z"
        },
        "trusted": true,
        "id": "pRNXudfdDpAI"
      },
      "source": [
        "model = Prophet(\n",
        "    growth='linear',\n",
        "    n_changepoints=10,\n",
        "    changepoint_range=0.8,\n",
        "    yearly_seasonality='auto',\n",
        "    weekly_seasonality='auto',\n",
        "    daily_seasonality='auto',\n",
        "    seasonality_mode='additive',\n",
        "    seasonality_prior_scale=10.0,\n",
        "    changepoint_prior_scale=0.05,\n",
        "    interval_width=0.8)"
      ],
      "execution_count": null,
      "outputs": []
    },
    {
      "cell_type": "code",
      "metadata": {
        "execution": {
          "iopub.status.busy": "2021-11-14T19:14:11.919547Z",
          "iopub.execute_input": "2021-11-14T19:14:11.921525Z",
          "iopub.status.idle": "2021-11-14T19:14:11.927766Z",
          "shell.execute_reply.started": "2021-11-14T19:14:11.921487Z",
          "shell.execute_reply": "2021-11-14T19:14:11.926977Z"
        },
        "trusted": true,
        "id": "Lasrbj8GDpAI"
      },
      "source": [
        "train_ds_org.drop(['apparent_temperature','temperature', 'humidity',\n",
        "       'dew_point', 'wind_speed', 'cloud_cover'], axis=1, inplace=True)"
      ],
      "execution_count": null,
      "outputs": []
    },
    {
      "cell_type": "code",
      "metadata": {
        "execution": {
          "iopub.status.busy": "2021-11-14T19:01:24.675397Z",
          "iopub.execute_input": "2021-11-14T19:01:24.675674Z",
          "iopub.status.idle": "2021-11-14T19:01:24.701246Z",
          "shell.execute_reply.started": "2021-11-14T19:01:24.675647Z",
          "shell.execute_reply": "2021-11-14T19:01:24.700559Z"
        },
        "trusted": true,
        "id": "1JiM1Gx6DpAI"
      },
      "source": [
        "# removing nan data, can also do using dropna()\n",
        "# train_ds_org = train_ds_org[~train_ds_org['load'].isna()]"
      ],
      "execution_count": null,
      "outputs": []
    },
    {
      "cell_type": "code",
      "metadata": {
        "execution": {
          "iopub.status.busy": "2021-11-14T19:01:25.098000Z",
          "iopub.execute_input": "2021-11-14T19:01:25.098653Z",
          "iopub.status.idle": "2021-11-14T19:01:25.112083Z",
          "shell.execute_reply.started": "2021-11-14T19:01:25.098607Z",
          "shell.execute_reply": "2021-11-14T19:01:25.111143Z"
        },
        "trusted": true,
        "id": "BqCqvdCmDpAI"
      },
      "source": [
        "train_ds_org.info()"
      ],
      "execution_count": null,
      "outputs": []
    },
    {
      "cell_type": "code",
      "metadata": {
        "execution": {
          "iopub.status.busy": "2021-11-14T19:01:28.145978Z",
          "iopub.execute_input": "2021-11-14T19:01:28.146281Z",
          "iopub.status.idle": "2021-11-14T19:01:28.163261Z",
          "shell.execute_reply.started": "2021-11-14T19:01:28.146247Z",
          "shell.execute_reply": "2021-11-14T19:01:28.162673Z"
        },
        "trusted": true,
        "id": "fddTQ7MaDpAJ"
      },
      "source": [
        "train_ds_new = train_ds_org[['datetime', 'load', 'temperature','wind_speed', 'cloud_cover']].rename({\n",
        "    'datetime':'ds',\n",
        "    'load':'y'\n",
        "}, axis='columns')"
      ],
      "execution_count": null,
      "outputs": []
    },
    {
      "cell_type": "code",
      "metadata": {
        "execution": {
          "iopub.status.busy": "2021-11-14T19:01:28.426783Z",
          "iopub.execute_input": "2021-11-14T19:01:28.427194Z",
          "iopub.status.idle": "2021-11-14T19:01:28.441305Z",
          "shell.execute_reply.started": "2021-11-14T19:01:28.427163Z",
          "shell.execute_reply": "2021-11-14T19:01:28.440364Z"
        },
        "trusted": true,
        "id": "HzPicbeGDpAJ"
      },
      "source": [
        "train_ds_new"
      ],
      "execution_count": null,
      "outputs": []
    },
    {
      "cell_type": "code",
      "metadata": {
        "execution": {
          "iopub.status.busy": "2021-11-14T19:01:31.124276Z",
          "iopub.execute_input": "2021-11-14T19:01:31.125105Z",
          "iopub.status.idle": "2021-11-14T19:01:31.128942Z",
          "shell.execute_reply.started": "2021-11-14T19:01:31.125060Z",
          "shell.execute_reply": "2021-11-14T19:01:31.128259Z"
        },
        "trusted": true,
        "id": "QvitkHbWDpAJ"
      },
      "source": [
        "train = train_ds_new[:(int(0.9*len(train_ds_new)))]"
      ],
      "execution_count": null,
      "outputs": []
    },
    {
      "cell_type": "code",
      "metadata": {
        "execution": {
          "iopub.status.busy": "2021-11-14T19:01:31.387306Z",
          "iopub.execute_input": "2021-11-14T19:01:31.387707Z",
          "iopub.status.idle": "2021-11-14T19:01:31.391944Z",
          "shell.execute_reply.started": "2021-11-14T19:01:31.387676Z",
          "shell.execute_reply": "2021-11-14T19:01:31.391081Z"
        },
        "trusted": true,
        "id": "TW9d3CH0DpAJ"
      },
      "source": [
        "test = train_ds_new[(int(0.9*len(train_ds_new))):]"
      ],
      "execution_count": null,
      "outputs": []
    },
    {
      "cell_type": "code",
      "metadata": {
        "execution": {
          "iopub.status.busy": "2021-11-14T19:01:34.018177Z",
          "iopub.execute_input": "2021-11-14T19:01:34.018500Z",
          "iopub.status.idle": "2021-11-14T19:02:47.678375Z",
          "shell.execute_reply.started": "2021-11-14T19:01:34.018463Z",
          "shell.execute_reply": "2021-11-14T19:02:47.676903Z"
        },
        "trusted": true,
        "id": "xg7z6YztDpAJ"
      },
      "source": [
        "m = model.fit(train)"
      ],
      "execution_count": null,
      "outputs": []
    },
    {
      "cell_type": "code",
      "metadata": {
        "execution": {
          "iopub.status.busy": "2021-11-14T19:03:49.989161Z",
          "iopub.execute_input": "2021-11-14T19:03:49.989558Z",
          "iopub.status.idle": "2021-11-14T19:03:55.839084Z",
          "shell.execute_reply.started": "2021-11-14T19:03:49.989509Z",
          "shell.execute_reply": "2021-11-14T19:03:55.838124Z"
        },
        "trusted": true,
        "id": "3NU4aMpLDpAJ"
      },
      "source": [
        "# future = model.make_future_dataframe(periods=1000, freq='15min')\n",
        "# forecast = model.predict(future)\n",
        "forecast = model.predict(df=test)\n",
        "forecast.head()"
      ],
      "execution_count": null,
      "outputs": []
    },
    {
      "cell_type": "code",
      "metadata": {
        "execution": {
          "iopub.status.busy": "2021-11-14T19:00:14.114155Z",
          "iopub.execute_input": "2021-11-14T19:00:14.114711Z",
          "iopub.status.idle": "2021-11-14T19:00:15.402957Z",
          "shell.execute_reply.started": "2021-11-14T19:00:14.114675Z",
          "shell.execute_reply": "2021-11-14T19:00:15.402002Z"
        },
        "trusted": true,
        "id": "rOGsGR-CDpAK"
      },
      "source": [
        "model.plot(forecast)"
      ],
      "execution_count": null,
      "outputs": []
    },
    {
      "cell_type": "code",
      "metadata": {
        "execution": {
          "iopub.status.busy": "2021-11-14T19:00:21.477087Z",
          "iopub.execute_input": "2021-11-14T19:00:21.477375Z",
          "iopub.status.idle": "2021-11-14T19:00:23.166265Z",
          "shell.execute_reply.started": "2021-11-14T19:00:21.477344Z",
          "shell.execute_reply": "2021-11-14T19:00:23.165347Z"
        },
        "trusted": true,
        "id": "7ZmxZgT-DpAK"
      },
      "source": [
        "model.plot_components(forecast)"
      ],
      "execution_count": null,
      "outputs": []
    },
    {
      "cell_type": "markdown",
      "metadata": {
        "id": "2IQSBOh3DpAK"
      },
      "source": [
        "# Prediction Test"
      ]
    },
    {
      "cell_type": "code",
      "metadata": {
        "execution": {
          "iopub.status.busy": "2021-11-14T18:36:42.780350Z",
          "iopub.execute_input": "2021-11-14T18:36:42.780987Z",
          "iopub.status.idle": "2021-11-14T18:36:42.788664Z",
          "shell.execute_reply.started": "2021-11-14T18:36:42.780947Z",
          "shell.execute_reply": "2021-11-14T18:36:42.787761Z"
        },
        "trusted": true,
        "id": "W6x0s9EhDpAK"
      },
      "source": [
        "# Testing on Unseen data\n",
        "mean_absolute_percentage_error(y_true=test['y'],\n",
        "                   y_pred=forecast['yhat'])"
      ],
      "execution_count": null,
      "outputs": []
    },
    {
      "cell_type": "markdown",
      "metadata": {
        "id": "CpP0C4MVDpAK"
      },
      "source": [
        "# Task 1 & 2: Predicting output for next 2 days & Missing NaN values"
      ]
    },
    {
      "cell_type": "markdown",
      "metadata": {
        "id": "jJvO69Y0DpAK"
      },
      "source": [
        "**I have drop columns again as running the model again for the output**"
      ]
    },
    {
      "cell_type": "code",
      "metadata": {
        "execution": {
          "iopub.status.busy": "2021-11-14T19:15:47.637946Z",
          "iopub.execute_input": "2021-11-14T19:15:47.638347Z",
          "iopub.status.idle": "2021-11-14T19:15:47.649609Z",
          "shell.execute_reply.started": "2021-11-14T19:15:47.638317Z",
          "shell.execute_reply": "2021-11-14T19:15:47.648782Z"
        },
        "trusted": true,
        "id": "unAXZCPvDpAK"
      },
      "source": [
        "train_ds_org"
      ],
      "execution_count": null,
      "outputs": []
    },
    {
      "cell_type": "code",
      "metadata": {
        "execution": {
          "iopub.status.busy": "2021-11-14T19:17:03.177276Z",
          "iopub.execute_input": "2021-11-14T19:17:03.177767Z",
          "iopub.status.idle": "2021-11-14T19:17:03.183276Z",
          "shell.execute_reply.started": "2021-11-14T19:17:03.177731Z",
          "shell.execute_reply": "2021-11-14T19:17:03.182490Z"
        },
        "trusted": true,
        "id": "Ta-YOJ80DpAK"
      },
      "source": [
        "train_ds_2 = train_ds_org.rename({'datetime':'ds',\n",
        "                                            'load':'y'\n",
        "                                           },axis=1)"
      ],
      "execution_count": null,
      "outputs": []
    },
    {
      "cell_type": "code",
      "metadata": {
        "execution": {
          "iopub.status.busy": "2021-11-14T19:17:07.786756Z",
          "iopub.execute_input": "2021-11-14T19:17:07.787465Z",
          "iopub.status.idle": "2021-11-14T19:18:56.568559Z",
          "shell.execute_reply.started": "2021-11-14T19:17:07.787428Z",
          "shell.execute_reply": "2021-11-14T19:18:56.567697Z"
        },
        "trusted": true,
        "id": "DMyTVaNCDpAL"
      },
      "source": [
        "model.fit(train_ds_2)"
      ],
      "execution_count": null,
      "outputs": []
    },
    {
      "cell_type": "code",
      "metadata": {
        "execution": {
          "iopub.status.busy": "2021-11-14T19:19:05.798640Z",
          "iopub.execute_input": "2021-11-14T19:19:05.799634Z",
          "iopub.status.idle": "2021-11-14T19:19:47.011976Z",
          "shell.execute_reply.started": "2021-11-14T19:19:05.799571Z",
          "shell.execute_reply": "2021-11-14T19:19:47.011036Z"
        },
        "trusted": true,
        "id": "Q5YyBxTeDpAL"
      },
      "source": [
        "future_fcst = model.make_future_dataframe(periods=200, freq='15min')\n",
        "forecast2 = model.predict(future_fcst)"
      ],
      "execution_count": null,
      "outputs": []
    },
    {
      "cell_type": "code",
      "metadata": {
        "execution": {
          "iopub.status.busy": "2021-11-14T19:40:12.667476Z",
          "iopub.execute_input": "2021-11-14T19:40:12.667757Z",
          "iopub.status.idle": "2021-11-14T19:40:12.713778Z",
          "shell.execute_reply.started": "2021-11-14T19:40:12.667728Z",
          "shell.execute_reply": "2021-11-14T19:40:12.712873Z"
        },
        "trusted": true,
        "id": "S9OXtecDDpAL"
      },
      "source": [
        "forecast2"
      ],
      "execution_count": null,
      "outputs": []
    },
    {
      "cell_type": "code",
      "metadata": {
        "execution": {
          "iopub.status.busy": "2021-11-14T19:20:31.366051Z",
          "iopub.execute_input": "2021-11-14T19:20:31.366363Z",
          "iopub.status.idle": "2021-11-14T19:20:31.372020Z",
          "shell.execute_reply.started": "2021-11-14T19:20:31.366331Z",
          "shell.execute_reply": "2021-11-14T19:20:31.371449Z"
        },
        "trusted": true,
        "id": "yeUce2m_DpAL"
      },
      "source": [
        "train_ds_org.shape"
      ],
      "execution_count": null,
      "outputs": []
    },
    {
      "cell_type": "code",
      "metadata": {
        "execution": {
          "iopub.status.busy": "2021-11-14T19:21:51.368306Z",
          "iopub.execute_input": "2021-11-14T19:21:51.368781Z",
          "iopub.status.idle": "2021-11-14T19:21:51.376604Z",
          "shell.execute_reply.started": "2021-11-14T19:21:51.368734Z",
          "shell.execute_reply": "2021-11-14T19:21:51.375862Z"
        },
        "trusted": true,
        "id": "QuJnN9niDpAM"
      },
      "source": [
        "train_ds_org['load'][:103392]"
      ],
      "execution_count": null,
      "outputs": []
    },
    {
      "cell_type": "code",
      "metadata": {
        "execution": {
          "iopub.status.busy": "2021-11-14T19:40:55.446197Z",
          "iopub.execute_input": "2021-11-14T19:40:55.446548Z",
          "iopub.status.idle": "2021-11-14T19:40:55.455685Z",
          "shell.execute_reply.started": "2021-11-14T19:40:55.446512Z",
          "shell.execute_reply": "2021-11-14T19:40:55.454848Z"
        },
        "trusted": true,
        "id": "i5qJ1lqmDpAM"
      },
      "source": [
        "# getting next 2 days forecast\n",
        "forecast2[['ds','yhat']][-200:].to_csv('output_task1.csv', header=True, index=False)"
      ],
      "execution_count": null,
      "outputs": []
    },
    {
      "cell_type": "code",
      "metadata": {
        "execution": {
          "iopub.status.busy": "2021-11-14T19:25:12.472065Z",
          "iopub.execute_input": "2021-11-14T19:25:12.472349Z",
          "iopub.status.idle": "2021-11-14T19:25:12.477201Z",
          "shell.execute_reply.started": "2021-11-14T19:25:12.472318Z",
          "shell.execute_reply": "2021-11-14T19:25:12.476663Z"
        },
        "trusted": true,
        "id": "UzP6uN6cDpAM"
      },
      "source": [
        "task2 = train_ds_org[train_ds_org['load'].isna()].reset_index(drop=True)"
      ],
      "execution_count": null,
      "outputs": []
    },
    {
      "cell_type": "code",
      "metadata": {
        "execution": {
          "iopub.status.busy": "2021-11-14T19:27:30.317543Z",
          "iopub.execute_input": "2021-11-14T19:27:30.317903Z",
          "iopub.status.idle": "2021-11-14T19:27:30.323601Z",
          "shell.execute_reply.started": "2021-11-14T19:27:30.317868Z",
          "shell.execute_reply": "2021-11-14T19:27:30.322784Z"
        },
        "trusted": true,
        "id": "zl5dtvakDpAM"
      },
      "source": [
        "task2 = task2.rename({'datetime':'ds','load':'y'\n",
        "                                           },axis=1)"
      ],
      "execution_count": null,
      "outputs": []
    },
    {
      "cell_type": "code",
      "metadata": {
        "execution": {
          "iopub.status.busy": "2021-11-14T19:27:35.172833Z",
          "iopub.execute_input": "2021-11-14T19:27:35.173404Z",
          "iopub.status.idle": "2021-11-14T19:27:35.186050Z",
          "shell.execute_reply.started": "2021-11-14T19:27:35.173355Z",
          "shell.execute_reply": "2021-11-14T19:27:35.185173Z"
        },
        "trusted": true,
        "id": "Lzhd_9r1DpAM"
      },
      "source": [
        "task2"
      ],
      "execution_count": null,
      "outputs": []
    },
    {
      "cell_type": "code",
      "metadata": {
        "execution": {
          "iopub.status.busy": "2021-11-14T19:33:53.364276Z",
          "iopub.execute_input": "2021-11-14T19:33:53.364970Z",
          "iopub.status.idle": "2021-11-14T19:33:53.392619Z",
          "shell.execute_reply.started": "2021-11-14T19:33:53.364926Z",
          "shell.execute_reply": "2021-11-14T19:33:53.391771Z"
        },
        "trusted": true,
        "id": "FO5mYYCCDpAM"
      },
      "source": [
        "# performing join on forecast2\n",
        "final2 = task2.merge(forecast2, on='ds', how='inner')\n",
        "final2 = final2[['ds','yhat']]\n",
        "final2 = final2.rename({'ds':'datetime','yhat':'load'},axis=1)"
      ],
      "execution_count": null,
      "outputs": []
    },
    {
      "cell_type": "code",
      "metadata": {
        "execution": {
          "iopub.status.busy": "2021-11-14T19:33:54.035286Z",
          "iopub.execute_input": "2021-11-14T19:33:54.035580Z",
          "iopub.status.idle": "2021-11-14T19:33:54.047782Z",
          "shell.execute_reply.started": "2021-11-14T19:33:54.035547Z",
          "shell.execute_reply": "2021-11-14T19:33:54.046904Z"
        },
        "trusted": true,
        "id": "0JpQsVnADpAN"
      },
      "source": [
        "final2.to_csv('output_task2.csv', header=True, index=False)"
      ],
      "execution_count": null,
      "outputs": []
    }
  ]
}